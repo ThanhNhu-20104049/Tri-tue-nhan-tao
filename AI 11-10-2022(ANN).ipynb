{
  "nbformat": 4,
  "nbformat_minor": 0,
  "metadata": {
    "colab": {
      "provenance": [],
      "authorship_tag": "ABX9TyMPujiZRTL5MUJMHMKSCaYE",
      "include_colab_link": true
    },
    "kernelspec": {
      "name": "python3",
      "display_name": "Python 3"
    },
    "language_info": {
      "name": "python"
    }
  },
  "cells": [
    {
      "cell_type": "markdown",
      "metadata": {
        "id": "view-in-github",
        "colab_type": "text"
      },
      "source": [
        "<a href=\"https://colab.research.google.com/github/ThanhNhu-20104049/Tri-tue-nhan-tao/blob/main/AI%2011-10-2022(ANN).ipynb\" target=\"_parent\"><img src=\"https://colab.research.google.com/assets/colab-badge.svg\" alt=\"Open In Colab\"/></a>"
      ]
    },
    {
      "cell_type": "code",
      "execution_count": null,
      "metadata": {
        "id": "-8I9KDUcsb1-"
      },
      "outputs": [],
      "source": [
        "#ANN ARTIFICIAL NEURAL NETWORK\n",
        "'''Perception - Binary network - classification (Phân loại)\n",
        "Multi Layer perception (Mạng nhiều lớp)\n",
        "CNN (Convilutional NN - Mạng tích chập)\n",
        "RNN\n",
        "Natural Language Processing)\n",
        "Yolo'''\n"
      ]
    },
    {
      "cell_type": "code",
      "source": [
        "import numpy as np\n",
        "from sklearn.linear_model import Perceptron\n",
        "x = [[0,0],[1,0],[0,1],[1,1]] \n",
        "y = [0,1,1,1]\n",
        "model = Perceptron()\n",
        "#Dạy trên tập x,y\n",
        "model.fit(x,y)\n",
        "#Score xác định độ chính xác\n",
        "print('Độ chính xác', model.score(x,y))\n",
        "x_test = [[0.5,0],[0.9,0.2],[1,0.5],[0.2,0.7]]\n",
        "y_test = model.predict(x_test)\n",
        "print(y_test)"
      ],
      "metadata": {
        "colab": {
          "base_uri": "https://localhost:8080/"
        },
        "id": "rg5arXqcuiXM",
        "outputId": "07c1d5ef-b98d-449b-de58-c4a7fbf0453e"
      },
      "execution_count": null,
      "outputs": [
        {
          "output_type": "stream",
          "name": "stdout",
          "text": [
            "Độ chính xác 1.0\n",
            "[0 1 1 1]\n"
          ]
        }
      ]
    },
    {
      "cell_type": "code",
      "source": [
        "\n",
        "x = [[-0.5,-0.5],[-0.5,0.5],[0.3,-0.5],[-0.1,1]] \n",
        "y = [1,1,0,0]\n",
        "model = Perceptron()\n",
        "#Dạy trên tập x,y\n",
        "model.fit(x,y)\n",
        "#Score xác định độ chính xác\n",
        "print('Độ chính xác', model.score(x,y))\n",
        "x_test = [[-0.5,0],[0.1,0.5],[1,0.5],[0.2,0.7]]\n",
        "y_test = model.predict(x_test)\n",
        "print(y_test)"
      ],
      "metadata": {
        "colab": {
          "base_uri": "https://localhost:8080/"
        },
        "id": "UDbv_aMX1fb2",
        "outputId": "39dcef87-6755-4a73-9f50-a6493e2e827a"
      },
      "execution_count": null,
      "outputs": [
        {
          "output_type": "stream",
          "name": "stdout",
          "text": [
            "Độ chính xác 1.0\n",
            "[1 0 0 0]\n"
          ]
        }
      ]
    },
    {
      "cell_type": "code",
      "source": [
        "import numpy as np\n",
        "from sklearn.linear_model import Perceptron\n",
        "#train_step_list: chia dữ liệu\n",
        "from sklearn.model_selection import train_test_split \n",
        "import pandas as pd\n",
        "\n",
        "url = 'crabs.csv'\n",
        "data = pd.read_csv(url)\n",
        "data = data[:100]\n",
        "x= data.drop(['speies','sex','index'],axis = True)\n",
        "\n",
        "y= data['sex'].replace(['M','F'],['1','0'])\n",
        "\n",
        "x_train,x_test,y_train,y_test = train_test_split(x,y,test_size = 0.3)\n",
        "\n",
        "model = Perceptron()\n",
        "model.fit(x_train,y_train)\n",
        "print('Độ chính xác', model.score(x_train,y_train))\n",
        "\n",
        "x_t = [[8.1,6.7,16.1,19,7],[10.4,9.7,21.7,25.4,8.3]]\n",
        "y_t = model.predict(x_t)\n",
        "\n",
        "print(y_t)"
      ],
      "metadata": {
        "colab": {
          "base_uri": "https://localhost:8080/"
        },
        "id": "h2fUkmwu-0Mg",
        "outputId": "fe4ccd8f-fb73-4474-d613-42f43f9b34a6"
      },
      "execution_count": null,
      "outputs": [
        {
          "output_type": "stream",
          "name": "stdout",
          "text": [
            "Độ chính xác 0.9\n",
            "['0' '0']\n"
          ]
        },
        {
          "output_type": "stream",
          "name": "stderr",
          "text": [
            "/usr/local/lib/python3.7/dist-packages/sklearn/base.py:451: UserWarning: X does not have valid feature names, but Perceptron was fitted with feature names\n",
            "  \"X does not have valid feature names, but\"\n"
          ]
        }
      ]
    },
    {
      "cell_type": "code",
      "source": [],
      "metadata": {
        "id": "-JWNOcaLMExg"
      },
      "execution_count": null,
      "outputs": []
    },
    {
      "cell_type": "code",
      "source": [
        "import numpy as np\n",
        "from sklearn.linear_model import Perceptron\n",
        "from sklearn.model_selection import train_test_split\n",
        "import pandas as pd\n",
        "\n",
        "url = \"crabs.csv\"\n",
        "data = pd.read_csv(url)\n",
        "x = data.drop(data.columns[[0,1,2]], axis=True)\n",
        "y = data[\"sex\"].replace([\"M\",\"F\"],[1,0])\n",
        "\n",
        "x_train,x_test,y_train,y_test = train_test_split(x,y,test_size = 0.3)\n",
        "\n",
        "model = Perceptron()\n",
        "model.fit(x_train, y_train)\n",
        "print(\"Độ chính xác: \", model.score(x_train,y_train))\n",
        "\n",
        "x_t = [[8.1,6.7,16.1,19,7],[10.4,9.7,21.7,25.4,8.3]]\n",
        "y_t = model.predict(x_t)\n",
        "\n",
        "print(y_t)"
      ],
      "metadata": {
        "colab": {
          "base_uri": "https://localhost:8080/"
        },
        "id": "Itm5ESm8Ll62",
        "outputId": "494208d9-3ad2-41cb-8425-0943fb6c17b6"
      },
      "execution_count": null,
      "outputs": [
        {
          "output_type": "stream",
          "name": "stdout",
          "text": [
            "Độ chính xác:  0.7285714285714285\n",
            "[0 0]\n"
          ]
        },
        {
          "output_type": "stream",
          "name": "stderr",
          "text": [
            "/usr/local/lib/python3.7/dist-packages/sklearn/base.py:451: UserWarning: X does not have valid feature names, but Perceptron was fitted with feature names\n",
            "  \"X does not have valid feature names, but\"\n"
          ]
        }
      ]
    },
    {
      "cell_type": "code",
      "source": [
        "import numpy as np\n",
        "from sklearn.linear_model import Perceptron\n",
        "from sklearn.model_selection import train_test_split \n",
        "from sklearn.datasets import load_iris\n",
        "import pandas as pd\n",
        "url = 'iris.csv'\n",
        "data = pd.read_csv(url)\n",
        "data = data[:100]\n",
        "\n",
        "x= data.drop(['variety'],axis = True)\n",
        "y= data['variety'].replace(['Setosa','Versicolor','Virginica'],[1,0,0])\n",
        "\n",
        "x_train,x_test,y_train,y_test = train_test_split(x,y,test_size = 0.3)\n",
        "\n",
        "model = Perceptron()\n",
        "model.fit(x_train,y_train)\n",
        "print('Độ chính xác', model.score(x_train,y_train))\n",
        "x_in = [[3.6,4.4,1.4,0.3],[6.7,3,5.2,2.7],[6.3,2.3,4.4,1.3],[5.1,3.8,1.9,0.4]]\n",
        "y_out = model.predict(x_in)\n",
        "print(y_out)\n"
      ],
      "metadata": {
        "colab": {
          "base_uri": "https://localhost:8080/"
        },
        "id": "-bTNeKM6TgCU",
        "outputId": "f7359698-66e1-4fb6-d836-cdf0eb89c543"
      },
      "execution_count": null,
      "outputs": [
        {
          "output_type": "stream",
          "name": "stdout",
          "text": [
            "Độ chính xác 1.0\n",
            "[1 0 0 1]\n"
          ]
        },
        {
          "output_type": "stream",
          "name": "stderr",
          "text": [
            "/usr/local/lib/python3.7/dist-packages/sklearn/base.py:451: UserWarning: X does not have valid feature names, but Perceptron was fitted with feature names\n",
            "  \"X does not have valid feature names, but\"\n"
          ]
        }
      ]
    }
  ]
}